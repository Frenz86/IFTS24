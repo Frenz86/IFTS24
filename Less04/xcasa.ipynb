{
 "cells": [
  {
   "cell_type": "code",
   "execution_count": null,
   "metadata": {},
   "outputs": [],
   "source": [
    "# Creare una classe \"Persona\" con attributi nome e età:"
   ]
  },
  {
   "cell_type": "code",
   "execution_count": 3,
   "metadata": {},
   "outputs": [
    {
     "name": "stdout",
     "output_type": "stream",
     "text": [
      "Alice 25\n",
      "Bob 30\n"
     ]
    }
   ],
   "source": [
    "class Persona:\n",
    "    def __init__(self, nome, eta):\n",
    "        self.nome = nome\n",
    "        self.eta = eta\n",
    "\n",
    "##########################################\n",
    "persona1 = Persona(\"Alice\", 25)\n",
    "persona2 = Persona(\"Bob\", 30)\n",
    "\n",
    "print(persona1.nome, persona1.eta)\n",
    "print(persona2.nome, persona2.eta)"
   ]
  },
  {
   "cell_type": "code",
   "execution_count": 1,
   "metadata": {},
   "outputs": [],
   "source": [
    "# Aggiungere un metodo alla classe \"Persona\" per stampare l'informazione completa:"
   ]
  },
  {
   "cell_type": "code",
   "execution_count": 2,
   "metadata": {},
   "outputs": [
    {
     "name": "stdout",
     "output_type": "stream",
     "text": [
      "Nome: Alice, Età: 25\n",
      "Nome: Bob, Età: 30\n"
     ]
    }
   ],
   "source": [
    "class Persona:\n",
    "    def __init__(self, nome, eta):\n",
    "        self.nome = nome\n",
    "        self.eta = eta\n",
    "\n",
    "    def stampa_informazioni(self):\n",
    "        print(f\"Nome: {self.nome}, Età: {self.eta}\")\n",
    "\n",
    "##########################################\n",
    "persona1 = Persona(\"Alice\", 25)\n",
    "persona2 = Persona(\"Bob\", 30)\n",
    "\n",
    "persona1.stampa_informazioni()\n",
    "persona2.stampa_informazioni()\n"
   ]
  },
  {
   "cell_type": "code",
   "execution_count": null,
   "metadata": {},
   "outputs": [],
   "source": [
    "# Creare una classe \"Libro\" con attributi titolo e autore:"
   ]
  },
  {
   "cell_type": "code",
   "execution_count": 4,
   "metadata": {},
   "outputs": [
    {
     "name": "stdout",
     "output_type": "stream",
     "text": [
      "Il Signore degli Anelli J.R.R. Tolkien\n",
      "1984 George Orwell\n"
     ]
    }
   ],
   "source": [
    "class Libro:\n",
    "    def __init__(self, titolo, autore):\n",
    "        self.titolo = titolo\n",
    "        self.autore = autore\n",
    "\n",
    "# Utilizzo della classe\n",
    "libro1 = Libro(\"Il Signore degli Anelli\", \"J.R.R. Tolkien\")\n",
    "libro2 = Libro(\"1984\", \"George Orwell\")\n",
    "\n",
    "print(libro1.titolo, libro1.autore)\n",
    "print(libro2.titolo, libro2.autore)\n"
   ]
  },
  {
   "cell_type": "code",
   "execution_count": null,
   "metadata": {},
   "outputs": [],
   "source": [
    "#4. Creare una classe \"Cerchio\" con attributo raggio e metodi per calcolare area e circonferenza:"
   ]
  },
  {
   "cell_type": "code",
   "execution_count": 5,
   "metadata": {},
   "outputs": [
    {
     "name": "stdout",
     "output_type": "stream",
     "text": [
      "Area Cerchio 1: 78.53981633974483\n",
      "Circonferenza Cerchio 1: 31.41592653589793\n",
      "Area Cerchio 2: 153.93804002589985\n",
      "Circonferenza Cerchio 2: 43.982297150257104\n"
     ]
    }
   ],
   "source": [
    "import math\n",
    "\n",
    "class Cerchio:\n",
    "    def __init__(self, raggio):\n",
    "        self.raggio = raggio\n",
    "\n",
    "    def calcola_area(self):\n",
    "        return math.pi * self.raggio**2\n",
    "\n",
    "    def calcola_circonferenza(self):\n",
    "        return 2 * math.pi * self.raggio\n",
    "\n",
    "# Utilizzo della classe\n",
    "cerchio1 = Cerchio(5)\n",
    "cerchio2 = Cerchio(7)\n",
    "\n",
    "print(\"Area Cerchio 1:\", cerchio1.calcola_area())\n",
    "print(\"Circonferenza Cerchio 1:\", cerchio1.calcola_circonferenza())\n",
    "\n",
    "print(\"Area Cerchio 2:\", cerchio2.calcola_area())\n",
    "print(\"Circonferenza Cerchio 2:\", cerchio2.calcola_circonferenza())\n"
   ]
  },
  {
   "cell_type": "code",
   "execution_count": null,
   "metadata": {},
   "outputs": [],
   "source": []
  }
 ],
 "metadata": {
  "kernelspec": {
   "display_name": "Python 3",
   "language": "python",
   "name": "python3"
  },
  "language_info": {
   "codemirror_mode": {
    "name": "ipython",
    "version": 3
   },
   "file_extension": ".py",
   "mimetype": "text/x-python",
   "name": "python",
   "nbconvert_exporter": "python",
   "pygments_lexer": "ipython3",
   "version": "3.10.11"
  }
 },
 "nbformat": 4,
 "nbformat_minor": 2
}
