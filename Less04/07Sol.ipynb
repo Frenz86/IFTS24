{
 "cells": [
  {
   "cell_type": "markdown",
   "metadata": {},
   "source": [
    "## Esercizi Funzioni"
   ]
  },
  {
   "cell_type": "code",
   "execution_count": 1,
   "metadata": {},
   "outputs": [
    {
     "name": "stdout",
     "output_type": "stream",
     "text": [
      "True\n",
      "False\n"
     ]
    }
   ],
   "source": [
    "# Esercizio 1: Verifica del numero pari\n",
    "def is_pari(numero):\n",
    "    \"\"\"\n",
    "    inserisci un numero è pari o dispari\n",
    "    \"\"\"\n",
    "    return numero % 2 == 0\n",
    "\n",
    "print(is_pari(4))  # Output: True\n",
    "print(is_pari(5))  # Output: False"
   ]
  },
  {
   "cell_type": "code",
   "execution_count": 2,
   "metadata": {},
   "outputs": [
    {
     "name": "stdout",
     "output_type": "stream",
     "text": [
      "9\n"
     ]
    }
   ],
   "source": [
    "# Esercizio 2: Conteggio delle lettere\n",
    "def conta_lettere(stringa):\n",
    "    \"\"\"\n",
    "    inserisci un xxxxxxxxxxxxxxxxxx\n",
    "    \"\"\"\n",
    "    # ris = len([lettera for lettera in stringa])\n",
    "    ris = len([lettera for lettera in stringa if lettera.isalpha()])\n",
    "    return ris\n",
    "\n",
    "print(conta_lettere(\"Ciao, 8mondo!\"))  # Output: 9"
   ]
  },
  {
   "cell_type": "code",
   "execution_count": 3,
   "metadata": {},
   "outputs": [
    {
     "name": "stdout",
     "output_type": "stream",
     "text": [
      "64\n"
     ]
    }
   ],
   "source": [
    "# Esercizio 3: Calcolo della potenza\n",
    "def potenza(base, esponente):\n",
    "    \"\"\"\n",
    "    inserisci un xxxxxxxxxxxxxxxxxx\n",
    "    \"\"\"\n",
    "    ris = base ** esponente\n",
    "    return ris \n",
    "\n",
    "print(potenza(2, 6))  # Output: 8"
   ]
  },
  {
   "cell_type": "code",
   "execution_count": 4,
   "metadata": {},
   "outputs": [
    {
     "data": {
      "text/plain": [
       "'oaic'"
      ]
     },
     "execution_count": 4,
     "metadata": {},
     "output_type": "execute_result"
    }
   ],
   "source": [
    "\"ciao\"[::-1] #step -1"
   ]
  },
  {
   "cell_type": "code",
   "execution_count": 5,
   "metadata": {},
   "outputs": [
    {
     "name": "stdout",
     "output_type": "stream",
     "text": [
      "True\n",
      "False\n"
     ]
    }
   ],
   "source": [
    "# Esercizio 4: Verifica della stringa palindroma\n",
    "def is_palindroma(stringa):\n",
    "    \"\"\"\n",
    "    inserisci un xxxxxxxxxxxxxxxxxx\n",
    "    \"\"\"\n",
    "    reverse = stringa[::-1]\n",
    "    return reverse == stringa\n",
    "\n",
    "print(is_palindroma(\"radar\"))  # Output: True\n",
    "print(is_palindroma(\"python\")) # Output: False"
   ]
  },
  {
   "cell_type": "code",
   "execution_count": 6,
   "metadata": {},
   "outputs": [
    {
     "name": "stdout",
     "output_type": "stream",
     "text": [
      "[5, 4, 3, 2, 1]\n"
     ]
    }
   ],
   "source": [
    "# Esercizio 5: Inversione di una lista\n",
    "def inverti_lista(lista):\n",
    "    \"\"\"\n",
    "    inserisci un xxxxxxxxxxxxxxxxxx\n",
    "    \"\"\"\n",
    "    ris = lista[::-1]\n",
    "    return ris\n",
    "\n",
    "print(inverti_lista([1, 2, 3, 4, 5]))  # Output: [5, 4, 3, 2, 1]"
   ]
  },
  {
   "cell_type": "code",
   "execution_count": 7,
   "metadata": {},
   "outputs": [
    {
     "name": "stdout",
     "output_type": "stream",
     "text": [
      "Prezzo totale: 61.96\n"
     ]
    }
   ],
   "source": [
    "# Esercizio 6: Scrivi una funzione che accetti una lista di prezzi degli articoli e restituisca il prezzo totale.\n",
    "def calcola_prezzo_totale(lista_prezzi):\n",
    "    \"\"\"\n",
    "    inserisci un xxxxxxxxxxxxxxxxxx\n",
    "    \"\"\"\n",
    "    ris = sum(lista_prezzi)\n",
    "    return ris\n",
    "\n",
    "#################################################à\n",
    "\n",
    "prezzi = [10.99, 29.99, 4.99, 15.99]\n",
    "\n",
    "print(\"Prezzo totale:\", calcola_prezzo_totale(prezzi))  # Output: 61.96"
   ]
  },
  {
   "cell_type": "code",
   "execution_count": 8,
   "metadata": {},
   "outputs": [
    {
     "name": "stdout",
     "output_type": "stream",
     "text": [
      "Prezzo scontato: 40.0\n"
     ]
    }
   ],
   "source": [
    "# Esercizio 7: Scrivi una funzione che accetti il prezzo di un articolo e lo sconto percentuale, e restituisca il prezzo scontato.\n",
    "\n",
    "def calcola_prezzo_scontato(prezzo, sconto_percentuale):\n",
    "    \"\"\"\n",
    "    inserisci un xxxxxxxxxxxxxxxxxx\n",
    "    \"\"\"\n",
    "    ris = prezzo - (prezzo * sconto_percentuale / 100)\n",
    "    return ris\n",
    "\n",
    "################################################\n",
    "\n",
    "prezzo_iniziale = 50.0\n",
    "sconto_percentuale = 20.0\n",
    "print(\"Prezzo scontato:\", calcola_prezzo_scontato(prezzo_iniziale, sconto_percentuale))  # Output: 40.0\n"
   ]
  },
  {
   "cell_type": "code",
   "execution_count": 9,
   "metadata": {},
   "outputs": [
    {
     "name": "stdout",
     "output_type": "stream",
     "text": [
      "Prezzo finale con tasse: 61.0\n"
     ]
    }
   ],
   "source": [
    "# Esercizio 8: Scrivi una funzione che accetti il prezzo di un articolo senza iva ed il corrispettivo di iva%, e restituisca il prezzo finale comprensivo di iva\n",
    "\n",
    "def calcola_prezzo_con_iva(prezzo, iva_percentuale):\n",
    "    \"\"\"\n",
    "    inserisci un xxxxxxxxxxxxxxxxxx\n",
    "    \"\"\"\n",
    "    ris = prezzo * (1 + iva_percentuale / 100)\n",
    "    return ris\n",
    "\n",
    "################################################\n",
    "\n",
    "prezzo_iniziale = 50.0\n",
    "iva_percentuale = 22\n",
    "\n",
    "print(\"Prezzo finale con tasse:\", calcola_prezzo_con_iva(prezzo_iniziale, iva_percentuale))  # Output: 61.0"
   ]
  },
  {
   "cell_type": "code",
   "execution_count": 10,
   "metadata": {},
   "outputs": [
    {
     "name": "stdout",
     "output_type": "stream",
     "text": [
      "Prezzo medio degli articoli: 15.49\n"
     ]
    }
   ],
   "source": [
    "#Esercizio 9: Calcolo del prezzo medio degli articoli\n",
    "def calcola_prezzo_medio(lista_prezzi):\n",
    "    \"\"\"\n",
    "    inserisci un xxxxxxxxxxxxxxxxxx\n",
    "    \"\"\"\n",
    "    ris = sum(lista_prezzi) / len(lista_prezzi)\n",
    "    return ris\n",
    "\n",
    "################################################\n",
    "\n",
    "prezzi = [10.99, 29.99, 4.99, 15.99]\n",
    "print(\"Prezzo medio degli articoli:\", calcola_prezzo_medio(prezzi))  # Output: 15.49"
   ]
  },
  {
   "cell_type": "code",
   "execution_count": null,
   "metadata": {},
   "outputs": [],
   "source": []
  },
  {
   "cell_type": "code",
   "execution_count": null,
   "metadata": {},
   "outputs": [],
   "source": []
  },
  {
   "cell_type": "code",
   "execution_count": null,
   "metadata": {},
   "outputs": [],
   "source": []
  },
  {
   "cell_type": "code",
   "execution_count": null,
   "metadata": {},
   "outputs": [],
   "source": []
  }
 ],
 "metadata": {
  "kernelspec": {
   "display_name": "Python 3",
   "language": "python",
   "name": "python3"
  },
  "language_info": {
   "codemirror_mode": {
    "name": "ipython",
    "version": 3
   },
   "file_extension": ".py",
   "mimetype": "text/x-python",
   "name": "python",
   "nbconvert_exporter": "python",
   "pygments_lexer": "ipython3",
   "version": "3.11.8"
  }
 },
 "nbformat": 4,
 "nbformat_minor": 2
}
