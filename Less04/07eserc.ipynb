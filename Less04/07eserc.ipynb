{
 "cells": [
  {
   "cell_type": "markdown",
   "metadata": {},
   "source": [
    "## Esercizi Funzioni"
   ]
  },
  {
   "cell_type": "code",
   "execution_count": 9,
   "metadata": {},
   "outputs": [
    {
     "name": "stdout",
     "output_type": "stream",
     "text": [
      "True\n",
      "False\n"
     ]
    }
   ],
   "source": [
    "# Esercizio 1: Verifica del numero pari\n",
    "\n",
    "\n",
    "########################################\n",
    "print(is_pari(4))  # Output: True\n",
    "print(is_pari(5))  # Output: False"
   ]
  },
  {
   "cell_type": "code",
   "execution_count": 16,
   "metadata": {},
   "outputs": [
    {
     "name": "stdout",
     "output_type": "stream",
     "text": [
      "9\n"
     ]
    }
   ],
   "source": [
    "# Esercizio 2: Conteggio delle lettere\n",
    "\n",
    "\n",
    "####################################################\n",
    "print(conta_lettere(\"Ciao, 8mondo!\"))  # Output: 9"
   ]
  },
  {
   "cell_type": "code",
   "execution_count": 11,
   "metadata": {},
   "outputs": [
    {
     "name": "stdout",
     "output_type": "stream",
     "text": [
      "64\n"
     ]
    }
   ],
   "source": [
    "# Esercizio 3: Calcolo della potenza\n",
    "\n",
    "\n",
    "###############################################\n",
    "print(potenza(2, 6))  # Output: 8"
   ]
  },
  {
   "cell_type": "code",
   "execution_count": 15,
   "metadata": {},
   "outputs": [
    {
     "data": {
      "text/plain": [
       "'oaic'"
      ]
     },
     "execution_count": 15,
     "metadata": {},
     "output_type": "execute_result"
    }
   ],
   "source": [
    "\"ciao\"[::-1] #step -1"
   ]
  },
  {
   "cell_type": "code",
   "execution_count": 17,
   "metadata": {},
   "outputs": [
    {
     "name": "stdout",
     "output_type": "stream",
     "text": [
      "True\n",
      "False\n"
     ]
    }
   ],
   "source": [
    "# Esercizio 4: Verifica della stringa palindroma\n",
    "\n",
    "\n",
    "################################################\n",
    "\n",
    "print(is_palindroma(\"radar\"))  # Output: True\n",
    "print(is_palindroma(\"python\")) # Output: False"
   ]
  },
  {
   "cell_type": "code",
   "execution_count": 18,
   "metadata": {},
   "outputs": [
    {
     "name": "stdout",
     "output_type": "stream",
     "text": [
      "[5, 4, 3, 2, 1]\n"
     ]
    }
   ],
   "source": [
    "# Esercizio 5: Inversione di una lista\n",
    "\n",
    "\n",
    "################################################\n",
    "\n",
    "print(inverti_lista([1, 2, 3, 4, 5]))  # Output: [5, 4, 3, 2, 1]"
   ]
  },
  {
   "cell_type": "code",
   "execution_count": 19,
   "metadata": {},
   "outputs": [
    {
     "name": "stdout",
     "output_type": "stream",
     "text": [
      "Prezzo totale: 61.96\n"
     ]
    }
   ],
   "source": [
    "# Esercizio 6: Scrivi una funzione che accetti una lista di prezzi degli articoli e restituisca il prezzo totale.\n",
    "\n",
    "\n",
    "\n",
    "#################################################à\n",
    "\n",
    "prezzi = [10.99, 29.99, 4.99, 15.99]\n",
    "\n",
    "print(\"Prezzo totale:\", calcola_prezzo_totale(prezzi))  # Output: 61.96"
   ]
  },
  {
   "cell_type": "code",
   "execution_count": 20,
   "metadata": {},
   "outputs": [
    {
     "name": "stdout",
     "output_type": "stream",
     "text": [
      "Prezzo scontato: 40.0\n"
     ]
    }
   ],
   "source": [
    "# Esercizio 7: Scrivi una funzione che accetti il prezzo di un articolo e lo sconto percentuale, e restituisca il prezzo scontato.\n",
    "\n",
    "\n",
    "\n",
    "################################################\n",
    "\n",
    "prezzo_iniziale = 50.0\n",
    "sconto_percentuale = 20.0\n",
    "print(\"Prezzo scontato:\", calcola_prezzo_scontato(prezzo_iniziale, sconto_percentuale))  # Output: 40.0\n"
   ]
  },
  {
   "cell_type": "code",
   "execution_count": 27,
   "metadata": {},
   "outputs": [
    {
     "name": "stdout",
     "output_type": "stream",
     "text": [
      "Prezzo finale con tasse: 61.0\n"
     ]
    }
   ],
   "source": [
    "# Esercizio 8: Scrivi una funzione che accetti il prezzo di un articolo senza iva ed il corrispettivo di iva%, e restituisca il prezzo finale comprensivo di iva\n",
    "\n",
    "\n",
    "################################################\n",
    "\n",
    "prezzo_iniziale = 50.0\n",
    "iva_percentuale = 22\n",
    "\n",
    "print(\"Prezzo finale con tasse:\", calcola_prezzo_con_iva(prezzo_iniziale, iva_percentuale))  # Output: 61.0"
   ]
  },
  {
   "cell_type": "code",
   "execution_count": 25,
   "metadata": {},
   "outputs": [
    {
     "name": "stdout",
     "output_type": "stream",
     "text": [
      "Prezzo medio degli articoli: 15.49\n"
     ]
    }
   ],
   "source": [
    "#Esercizio 9: Calcolo del prezzo medio degli articoli\n",
    "\n",
    "\n",
    "\n",
    "################################################\n",
    "\n",
    "prezzi = [10.99, 29.99, 4.99, 15.99]\n",
    "print(\"Prezzo medio degli articoli:\", calcola_prezzo_medio(prezzi))  # Output: 15.49"
   ]
  },
  {
   "cell_type": "code",
   "execution_count": null,
   "metadata": {},
   "outputs": [],
   "source": []
  },
  {
   "cell_type": "code",
   "execution_count": null,
   "metadata": {},
   "outputs": [],
   "source": []
  },
  {
   "cell_type": "code",
   "execution_count": null,
   "metadata": {},
   "outputs": [],
   "source": []
  },
  {
   "cell_type": "code",
   "execution_count": null,
   "metadata": {},
   "outputs": [],
   "source": []
  }
 ],
 "metadata": {
  "kernelspec": {
   "display_name": "Python 3",
   "language": "python",
   "name": "python3"
  },
  "language_info": {
   "codemirror_mode": {
    "name": "ipython",
    "version": 3
   },
   "file_extension": ".py",
   "mimetype": "text/x-python",
   "name": "python",
   "nbconvert_exporter": "python",
   "pygments_lexer": "ipython3",
   "version": "3.11.8"
  }
 },
 "nbformat": 4,
 "nbformat_minor": 2
}
