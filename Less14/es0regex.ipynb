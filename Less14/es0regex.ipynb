{
 "cells": [
  {
   "cell_type": "code",
   "execution_count": 2,
   "metadata": {},
   "outputs": [
    {
     "data": {
      "text/html": [
       "<div>\n",
       "<style scoped>\n",
       "    .dataframe tbody tr th:only-of-type {\n",
       "        vertical-align: middle;\n",
       "    }\n",
       "\n",
       "    .dataframe tbody tr th {\n",
       "        vertical-align: top;\n",
       "    }\n",
       "\n",
       "    .dataframe thead th {\n",
       "        text-align: right;\n",
       "    }\n",
       "</style>\n",
       "<table border=\"1\" class=\"dataframe\">\n",
       "  <thead>\n",
       "    <tr style=\"text-align: right;\">\n",
       "      <th></th>\n",
       "      <th>text</th>\n",
       "    </tr>\n",
       "  </thead>\n",
       "  <tbody>\n",
       "    <tr>\n",
       "      <th>0</th>\n",
       "      <td>Hey @user123, check out this link: https://exa...</td>\n",
       "    </tr>\n",
       "    <tr>\n",
       "      <th>1</th>\n",
       "      <td>OMG!!! Can't believe it's already 2024!!! 😱🎉 #...</td>\n",
       "    </tr>\n",
       "    <tr>\n",
       "      <th>2</th>\n",
       "      <td>Buy 2 get 1 free!!! Visit www.shopnow.com for ...</td>\n",
       "    </tr>\n",
       "    <tr>\n",
       "      <th>3</th>\n",
       "      <td>Gargamella strikes again! Is there any hope!!!...</td>\n",
       "    </tr>\n",
       "    <tr>\n",
       "      <th>4</th>\n",
       "      <td>Word1, word2, and doggy all in a row! Can you ...</td>\n",
       "    </tr>\n",
       "    <tr>\n",
       "      <th>5</th>\n",
       "      <td>COVID-19 pandemic was tough in 2020. Stay safe...</td>\n",
       "    </tr>\n",
       "    <tr>\n",
       "      <th>6</th>\n",
       "      <td>Looking for a new job in 2023? Visit https://j...</td>\n",
       "    </tr>\n",
       "    <tr>\n",
       "      <th>7</th>\n",
       "      <td>Just ran 10k in under 50 mins!!! 🏃‍♂️ #running...</td>\n",
       "    </tr>\n",
       "    <tr>\n",
       "      <th>8</th>\n",
       "      <td>Doggy is such a good boy! 🐶 #pets #love</td>\n",
       "    </tr>\n",
       "    <tr>\n",
       "      <th>9</th>\n",
       "      <td>Hacked by Gargamella again. Contact support @h...</td>\n",
       "    </tr>\n",
       "  </tbody>\n",
       "</table>\n",
       "</div>"
      ],
      "text/plain": [
       "                                                text\n",
       "0  Hey @user123, check out this link: https://exa...\n",
       "1  OMG!!! Can't believe it's already 2024!!! 😱🎉 #...\n",
       "2  Buy 2 get 1 free!!! Visit www.shopnow.com for ...\n",
       "3  Gargamella strikes again! Is there any hope!!!...\n",
       "4  Word1, word2, and doggy all in a row! Can you ...\n",
       "5  COVID-19 pandemic was tough in 2020. Stay safe...\n",
       "6  Looking for a new job in 2023? Visit https://j...\n",
       "7  Just ran 10k in under 50 mins!!! 🏃‍♂️ #running...\n",
       "8            Doggy is such a good boy! 🐶 #pets #love\n",
       "9  Hacked by Gargamella again. Contact support @h..."
      ]
     },
     "execution_count": 2,
     "metadata": {},
     "output_type": "execute_result"
    }
   ],
   "source": [
    "import pandas as pd\n",
    "\n",
    "data = {\n",
    "        'text': [\n",
    "            \"Hey @user123, check out this link: https://example.com #awesome!!!\",\n",
    "            \"OMG!!! Can't believe it's already 2024!!! 😱🎉 #newyear #happy\",\n",
    "            \"Buy 2 get 1 free!!! Visit www.shopnow.com for more details. #sale #discount\",\n",
    "            \"Gargamella strikes again! Is there any hope!!!====''' ? 😡 #cartoon #funny\",\n",
    "            \"Word1, word2, and doggy all in a row! Can you believe it? 100% crazy!!!\",\n",
    "            \"COVID-19 pandemic was tough in 2020. Stay safe! #health #wellness\",\n",
    "            \"Looking for a new job in 2023? Visit https://jobs.example.com #career\",\n",
    "            \"Just ran 10k in under 50 mins!!! 🏃‍♂️ #running #fitness #achievement\",\n",
    "            \"Doggy is such a good boy! 🐶 #pets #love\",\n",
    "            \"Hacked by Gargamella again. Contact support @helpdesk ASAP! #security\"\n",
    "        ]\n",
    "    }\n",
    "df = pd.DataFrame(data)\n",
    "df\n"
   ]
  },
  {
   "cell_type": "code",
   "execution_count": null,
   "metadata": {},
   "outputs": [],
   "source": []
  }
 ],
 "metadata": {
  "kernelspec": {
   "display_name": "Python 3",
   "language": "python",
   "name": "python3"
  },
  "language_info": {
   "codemirror_mode": {
    "name": "ipython",
    "version": 3
   },
   "file_extension": ".py",
   "mimetype": "text/x-python",
   "name": "python",
   "nbconvert_exporter": "python",
   "pygments_lexer": "ipython3",
   "version": "3.11.8"
  }
 },
 "nbformat": 4,
 "nbformat_minor": 2
}
