{
 "cells": [
  {
   "cell_type": "markdown",
   "metadata": {},
   "source": [
    "# Python Virtual Environment Commands\n",
    "\n",
    "## Common commands for managing Python virtual environments:\n",
    "\n",
    "1. **Install virtualenv wrapper**\n",
    "   ```bash\n",
    "   # For Windows:\n",
    "   pip install virtualenvwrapper-win\n",
    "   \n",
    "   # For Linux:\n",
    "   pip install virtualenvwrapper\n",
    "   ```\n",
    "\n",
    "2. **Create a new virtual environment**\n",
    "   ```bash\n",
    "   mkvirtualenv env1\n",
    "   ```\n",
    "\n",
    "3. **List existing environments**\n",
    "   ```bash\n",
    "   workon\n",
    "   ```\n",
    "\n",
    "4. **Activate an environment**\n",
    "   ```bash\n",
    "   workon env1\n",
    "   ```\n",
    "\n",
    "5. **Deactivate current environment**\n",
    "   ```bash\n",
    "   deactivate\n",
    "   ```\n",
    "\n",
    "6. **List all virtual environments and their locations**\n",
    "   ```bash\n",
    "   lsvirtualenv\n",
    "   ```\n",
    "\n",
    "7. **Remove a virtual environment**\n",
    "   ```bash\n",
    "   rmvirtualenv env1\n",
    "   ```\n",
    "\n",
    "*Note: Replace `env1` with your desired environment name.*"
   ]
  },
  {
   "cell_type": "markdown",
   "metadata": {},
   "source": []
  }
 ],
 "metadata": {
  "language_info": {
   "name": "python"
  }
 },
 "nbformat": 4,
 "nbformat_minor": 2
}
